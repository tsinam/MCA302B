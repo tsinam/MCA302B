{
  "nbformat": 4,
  "nbformat_minor": 0,
  "metadata": {
    "colab": {
      "name": "denoisingautoencoder01.ipynb",
      "provenance": [],
      "authorship_tag": "ABX9TyNMNr+AAaLuRDbwuSX5Z9mq",
      "include_colab_link": true
    },
    "kernelspec": {
      "name": "python3",
      "display_name": "Python 3"
    },
    "language_info": {
      "name": "python"
    },
    "accelerator": "GPU"
  },
  "cells": [
    {
      "cell_type": "markdown",
      "metadata": {
        "id": "view-in-github",
        "colab_type": "text"
      },
      "source": [
        "<a href=\"https://colab.research.google.com/github/tsinam/MCA302B/blob/master/denoisingautoencoder01.ipynb\" target=\"_parent\"><img src=\"https://colab.research.google.com/assets/colab-badge.svg\" alt=\"Open In Colab\"/></a>"
      ]
    },
    {
      "cell_type": "code",
      "execution_count": 4,
      "metadata": {
        "colab": {
          "base_uri": "https://localhost:8080/"
        },
        "id": "Q2nsE0JrjAt9",
        "outputId": "49308f02-1fd5-4fef-cfc2-5424cbdc86b7"
      },
      "outputs": [
        {
          "output_type": "stream",
          "name": "stdout",
          "text": [
            "Downloading data from https://storage.googleapis.com/tensorflow/tf-keras-datasets/mnist.npz\n",
            "11493376/11490434 [==============================] - 0s 0us/step\n",
            "11501568/11490434 [==============================] - 0s 0us/step\n"
          ]
        }
      ],
      "source": [
        "from keras.datasets import mnist\n",
        "import numpy as np\n",
        "import matplotlib.pyplot as plt\n",
        "import keras\n",
        "from keras import layers\n",
        "\n",
        "\n",
        "\n",
        "(x_train, _), (x_test, _) = mnist.load_data()\n",
        "\n",
        "x_train = x_train.astype('float32') / 255.\n",
        "x_test = x_test.astype('float32') / 255.\n",
        "x_train = np.reshape(x_train, (len(x_train), 28, 28, 1))\n",
        "x_test = np.reshape(x_test, (len(x_test), 28, 28, 1))\n",
        "\n",
        "noise_factor = 0.5\n",
        "x_train_noisy = x_train + noise_factor * np.random.normal(loc=0.0, scale=1.0, size=x_train.shape) \n",
        "x_test_noisy = x_test + noise_factor * np.random.normal(loc=0.0, scale=1.0, size=x_test.shape) \n",
        "\n",
        "x_train_noisy = np.clip(x_train_noisy, 0., 1.)\n",
        "x_test_noisy = np.clip(x_test_noisy, 0., 1.)"
      ]
    },
    {
      "cell_type": "code",
      "source": [
        "n = 10\n",
        "plt.figure(figsize=(20, 2))\n",
        "for i in range(1, n + 1):\n",
        "    ax = plt.subplot(1, n, i)\n",
        "    plt.imshow(x_test_noisy[i].reshape(28, 28))\n",
        "    plt.gray()\n",
        "    ax.get_xaxis().set_visible(False)\n",
        "    ax.get_yaxis().set_visible(False)\n",
        "plt.show()"
      ],
      "metadata": {
        "colab": {
          "base_uri": "https://localhost:8080/",
          "height": 129
        },
        "id": "tn6fCNy3jGri",
        "outputId": "1e4e12c1-0a3e-4f59-ea72-fc9e17367a27"
      },
      "execution_count": 5,
      "outputs": [
        {
          "output_type": "display_data",
          "data": {
            "image/png": "[encoded data removed]",
            "text/plain": [
              "<Figure size 1440x144 with 10 Axes>"
            ]
          },
          "metadata": {
            "needs_background": "light"
          }
        }
      ]
    },
    {
      "cell_type": "code",
      "source": [
        "input_img = keras.Input(shape=(28, 28, 1))\n",
        "\n",
        "x = layers.Conv2D(32, (3, 3), activation='relu', padding='same')(input_img)\n",
        "x = layers.MaxPooling2D((2, 2), padding='same')(x)\n",
        "x = layers.Conv2D(32, (3, 3), activation='relu', padding='same')(x)\n",
        "encoded = layers.MaxPooling2D((2, 2), padding='same')(x)\n",
        "\n",
        "# At this point the representation is (7, 7, 32)\n",
        "\n",
        "x = layers.Conv2D(32, (3, 3), activation='relu', padding='same')(encoded)\n",
        "x = layers.UpSampling2D((2, 2))(x)\n",
        "x = layers.Conv2D(32, (3, 3), activation='relu', padding='same')(x)\n",
        "x = layers.UpSampling2D((2, 2))(x)\n",
        "decoded = layers.Conv2D(1, (3, 3), activation='sigmoid', padding='same')(x)\n",
        "\n",
        "autoencoder = keras.Model(input_img, decoded)\n",
        "autoencoder.compile(optimizer='adam', loss='binary_crossentropy')"
      ],
      "metadata": {
        "id": "BzfqUKEsjQgP"
      },
      "execution_count": 6,
      "outputs": []
    },
    {
      "cell_type": "code",
      "source": [
        "!tensorboard --logdir=/tmp/autoencoder"
      ],
      "metadata": {
        "colab": {
          "base_uri": "https://localhost:8080/"
        },
        "id": "MdrfayDTkU8J",
        "outputId": "c20bb484-a85a-4b06-9767-0581a508fb20"
      },
      "execution_count": 1,
      "outputs": [
        {
          "output_type": "stream",
          "name": "stdout",
          "text": [
            "\n",
            "NOTE: Using experimental fast data loading logic. To disable, pass\n",
            "    \"--load_fast=false\" and report issues on GitHub. More details:\n",
            "    https://github.com/tensorflow/tensorboard/issues/4784\n",
            "\n",
            "Serving TensorBoard on localhost; to expose to the network, use a proxy or pass --bind_all\n",
            "TensorBoard 2.7.0 at http://localhost:6006/ (Press CTRL+C to quit)\n"
          ]
        }
      ]
    },
    {
      "cell_type": "code",
      "source": [
        "autoencoder.fit(x_train_noisy, x_train,\n",
        "                epochs=100,\n",
        "                batch_size=128,\n",
        "                shuffle=True,\n",
        "                validation_data=(x_test_noisy, x_test))"
      ],
      "metadata": {
        "colab": {
          "base_uri": "https://localhost:8080/"
        },
        "id": "5tkXHC5LjVxr",
        "outputId": "797ec3ef-98e0-4def-b9d2-aad6ee281132"
      },
      "execution_count": 7,
      "outputs": [
        {
          "output_type": "stream",
          "name": "stdout",
          "text": [
            "Epoch 1/100\n",
            "469/469 [==============================] - 16s 15ms/step - loss: 0.1607 - val_loss: 0.1174\n",
            "Epoch 2/100\n",
            "469/469 [==============================] - 6s 14ms/step - loss: 0.1128 - val_loss: 0.1088\n",
            "Epoch 3/100\n",
            "469/469 [==============================] - 6s 14ms/step - loss: 0.1067 - val_loss: 0.1039\n",
            "Epoch 4/100\n",
            "469/469 [==============================] - 6s 14ms/step - loss: 0.1038 - val_loss: 0.1019\n",
            "Epoch 5/100\n",
            "469/469 [==============================] - 6s 14ms/step - loss: 0.1021 - val_loss: 0.1007\n",
            "Epoch 6/100\n",
            "469/469 [==============================] - 7s 14ms/step - loss: 0.1009 - val_loss: 0.0996\n",
            "Epoch 7/100\n",
            "469/469 [==============================] - 6s 14ms/step - loss: 0.1000 - val_loss: 0.0988\n",
            "Epoch 8/100\n",
            "469/469 [==============================] - 7s 14ms/step - loss: 0.0993 - val_loss: 0.0983\n",
            "Epoch 9/100\n",
            "469/469 [==============================] - 6s 14ms/step - loss: 0.0987 - val_loss: 0.0981\n",
            "Epoch 10/100\n",
            "469/469 [==============================] - 6s 14ms/step - loss: 0.0982 - val_loss: 0.0972\n",
            "Epoch 11/100\n",
            "469/469 [==============================] - 6s 14ms/step - loss: 0.0977 - val_loss: 0.0968\n",
            "Epoch 12/100\n",
            "469/469 [==============================] - 6s 14ms/step - loss: 0.0973 - val_loss: 0.0964\n",
            "Epoch 13/100\n",
            "469/469 [==============================] - 6s 14ms/step - loss: 0.0970 - val_loss: 0.0961\n",
            "Epoch 14/100\n",
            "469/469 [==============================] - 6s 14ms/step - loss: 0.0967 - val_loss: 0.0960\n",
            "Epoch 15/100\n",
            "469/469 [==============================] - 6s 14ms/step - loss: 0.0964 - val_loss: 0.0956\n",
            "Epoch 16/100\n",
            "469/469 [==============================] - 6s 14ms/step - loss: 0.0962 - val_loss: 0.0958\n",
            "Epoch 17/100\n",
            "469/469 [==============================] - 6s 14ms/step - loss: 0.0960 - val_loss: 0.0953\n",
            "Epoch 18/100\n",
            "469/469 [==============================] - 6s 14ms/step - loss: 0.0958 - val_loss: 0.0953\n",
            "Epoch 19/100\n",
            "469/469 [==============================] - 6s 14ms/step - loss: 0.0956 - val_loss: 0.0955\n",
            "Epoch 20/100\n",
            "469/469 [==============================] - 6s 14ms/step - loss: 0.0955 - val_loss: 0.0949\n",
            "Epoch 21/100\n",
            "469/469 [==============================] - 6s 14ms/step - loss: 0.0953 - val_loss: 0.0949\n",
            "Epoch 22/100\n",
            "469/469 [==============================] - 7s 14ms/step - loss: 0.0952 - val_loss: 0.0947\n",
            "Epoch 23/100\n",
            "469/469 [==============================] - 7s 14ms/step - loss: 0.0951 - val_loss: 0.0946\n",
            "Epoch 24/100\n",
            "469/469 [==============================] - 6s 14ms/step - loss: 0.0950 - val_loss: 0.0945\n",
            "Epoch 25/100\n",
            "469/469 [==============================] - 7s 14ms/step - loss: 0.0949 - val_loss: 0.0943\n",
            "Epoch 26/100\n",
            "469/469 [==============================] - 7s 14ms/step - loss: 0.0948 - val_loss: 0.0944\n",
            "Epoch 27/100\n",
            "469/469 [==============================] - 7s 14ms/step - loss: 0.0947 - val_loss: 0.0942\n",
            "Epoch 28/100\n",
            "469/469 [==============================] - 7s 14ms/step - loss: 0.0946 - val_loss: 0.0942\n",
            "Epoch 29/100\n",
            "469/469 [==============================] - 7s 14ms/step - loss: 0.0946 - val_loss: 0.0942\n",
            "Epoch 30/100\n",
            "469/469 [==============================] - 7s 14ms/step - loss: 0.0945 - val_loss: 0.0940\n",
            "Epoch 31/100\n",
            "469/469 [==============================] - 7s 14ms/step - loss: 0.0944 - val_loss: 0.0941\n",
            "Epoch 32/100\n",
            "469/469 [==============================] - 7s 14ms/step - loss: 0.0943 - val_loss: 0.0941\n",
            "Epoch 33/100\n",
            "469/469 [==============================] - 7s 14ms/step - loss: 0.0943 - val_loss: 0.0939\n",
            "Epoch 34/100\n",
            "469/469 [==============================] - 6s 14ms/step - loss: 0.0942 - val_loss: 0.0945\n",
            "Epoch 35/100\n",
            "469/469 [==============================] - 6s 14ms/step - loss: 0.0942 - val_loss: 0.0940\n",
            "Epoch 36/100\n",
            "469/469 [==============================] - 7s 14ms/step - loss: 0.0941 - val_loss: 0.0939\n",
            "Epoch 37/100\n",
            "469/469 [==============================] - 6s 14ms/step - loss: 0.0941 - val_loss: 0.0939\n",
            "Epoch 38/100\n",
            "469/469 [==============================] - 6s 14ms/step - loss: 0.0940 - val_loss: 0.0936\n",
            "Epoch 39/100\n",
            "469/469 [==============================] - 6s 14ms/step - loss: 0.0939 - val_loss: 0.0936\n",
            "Epoch 40/100\n",
            "469/469 [==============================] - 6s 14ms/step - loss: 0.0940 - val_loss: 0.0938\n",
            "Epoch 41/100\n",
            "469/469 [==============================] - 6s 14ms/step - loss: 0.0939 - val_loss: 0.0937\n",
            "Epoch 42/100\n",
            "469/469 [==============================] - 6s 14ms/step - loss: 0.0939 - val_loss: 0.0935\n",
            "Epoch 43/100\n",
            "469/469 [==============================] - 7s 14ms/step - loss: 0.0938 - val_loss: 0.0935\n",
            "Epoch 44/100\n",
            "469/469 [==============================] - 6s 14ms/step - loss: 0.0938 - val_loss: 0.0934\n",
            "Epoch 45/100\n",
            "469/469 [==============================] - 7s 14ms/step - loss: 0.0937 - val_loss: 0.0935\n",
            "Epoch 46/100\n",
            "469/469 [==============================] - 6s 14ms/step - loss: 0.0937 - val_loss: 0.0934\n",
            "Epoch 47/100\n",
            "469/469 [==============================] - 7s 14ms/step - loss: 0.0937 - val_loss: 0.0934\n",
            "Epoch 48/100\n",
            "469/469 [==============================] - 7s 14ms/step - loss: 0.0936 - val_loss: 0.0934\n",
            "Epoch 49/100\n",
            "469/469 [==============================] - 6s 14ms/step - loss: 0.0936 - val_loss: 0.0933\n",
            "Epoch 50/100\n",
            "469/469 [==============================] - 6s 14ms/step - loss: 0.0935 - val_loss: 0.0934\n",
            "Epoch 51/100\n",
            "469/469 [==============================] - 6s 14ms/step - loss: 0.0935 - val_loss: 0.0935\n",
            "Epoch 52/100\n",
            "469/469 [==============================] - 6s 14ms/step - loss: 0.0935 - val_loss: 0.0933\n",
            "Epoch 53/100\n",
            "469/469 [==============================] - 7s 14ms/step - loss: 0.0935 - val_loss: 0.0937\n",
            "Epoch 54/100\n",
            "469/469 [==============================] - 6s 14ms/step - loss: 0.0935 - val_loss: 0.0935\n",
            "Epoch 55/100\n",
            "469/469 [==============================] - 6s 14ms/step - loss: 0.0934 - val_loss: 0.0934\n",
            "Epoch 56/100\n",
            "469/469 [==============================] - 7s 14ms/step - loss: 0.0934 - val_loss: 0.0932\n",
            "Epoch 57/100\n",
            "469/469 [==============================] - 6s 14ms/step - loss: 0.0934 - val_loss: 0.0933\n",
            "Epoch 58/100\n",
            "469/469 [==============================] - 6s 14ms/step - loss: 0.0934 - val_loss: 0.0933\n",
            "Epoch 59/100\n",
            "469/469 [==============================] - 7s 14ms/step - loss: 0.0933 - val_loss: 0.0931\n",
            "Epoch 60/100\n",
            "469/469 [==============================] - 6s 14ms/step - loss: 0.0933 - val_loss: 0.0931\n",
            "Epoch 61/100\n",
            "469/469 [==============================] - 7s 14ms/step - loss: 0.0933 - val_loss: 0.0933\n",
            "Epoch 62/100\n",
            "469/469 [==============================] - 6s 14ms/step - loss: 0.0933 - val_loss: 0.0932\n",
            "Epoch 63/100\n",
            "469/469 [==============================] - 6s 14ms/step - loss: 0.0933 - val_loss: 0.0931\n",
            "Epoch 64/100\n",
            "469/469 [==============================] - 6s 14ms/step - loss: 0.0932 - val_loss: 0.0930\n",
            "Epoch 65/100\n",
            "469/469 [==============================] - 7s 14ms/step - loss: 0.0933 - val_loss: 0.0931\n",
            "Epoch 66/100\n",
            "469/469 [==============================] - 6s 14ms/step - loss: 0.0932 - val_loss: 0.0931\n",
            "Epoch 67/100\n",
            "469/469 [==============================] - 7s 14ms/step - loss: 0.0932 - val_loss: 0.0931\n",
            "Epoch 68/100\n",
            "469/469 [==============================] - 6s 14ms/step - loss: 0.0932 - val_loss: 0.0931\n",
            "Epoch 69/100\n",
            "469/469 [==============================] - 7s 14ms/step - loss: 0.0932 - val_loss: 0.0930\n",
            "Epoch 70/100\n",
            "469/469 [==============================] - 6s 14ms/step - loss: 0.0932 - val_loss: 0.0934\n",
            "Epoch 71/100\n",
            "469/469 [==============================] - 7s 14ms/step - loss: 0.0931 - val_loss: 0.0932\n",
            "Epoch 72/100\n",
            "469/469 [==============================] - 6s 14ms/step - loss: 0.0931 - val_loss: 0.0931\n",
            "Epoch 73/100\n",
            "469/469 [==============================] - 6s 14ms/step - loss: 0.0931 - val_loss: 0.0931\n",
            "Epoch 74/100\n",
            "469/469 [==============================] - 7s 14ms/step - loss: 0.0931 - val_loss: 0.0931\n",
            "Epoch 75/100\n",
            "469/469 [==============================] - 7s 14ms/step - loss: 0.0931 - val_loss: 0.0931\n",
            "Epoch 76/100\n",
            "469/469 [==============================] - 7s 14ms/step - loss: 0.0931 - val_loss: 0.0932\n",
            "Epoch 77/100\n",
            "469/469 [==============================] - 6s 14ms/step - loss: 0.0931 - val_loss: 0.0933\n",
            "Epoch 78/100\n",
            "469/469 [==============================] - 7s 14ms/step - loss: 0.0930 - val_loss: 0.0930\n",
            "Epoch 79/100\n",
            "469/469 [==============================] - 7s 14ms/step - loss: 0.0930 - val_loss: 0.0932\n",
            "Epoch 80/100\n",
            "469/469 [==============================] - 7s 14ms/step - loss: 0.0930 - val_loss: 0.0934\n",
            "Epoch 81/100\n",
            "469/469 [==============================] - 6s 14ms/step - loss: 0.0930 - val_loss: 0.0929\n",
            "Epoch 82/100\n",
            "469/469 [==============================] - 6s 14ms/step - loss: 0.0930 - val_loss: 0.0929\n",
            "Epoch 83/100\n",
            "469/469 [==============================] - 6s 14ms/step - loss: 0.0930 - val_loss: 0.0930\n",
            "Epoch 84/100\n",
            "469/469 [==============================] - 6s 14ms/step - loss: 0.0930 - val_loss: 0.0930\n",
            "Epoch 85/100\n",
            "469/469 [==============================] - 6s 14ms/step - loss: 0.0930 - val_loss: 0.0929\n",
            "Epoch 86/100\n",
            "469/469 [==============================] - 7s 14ms/step - loss: 0.0930 - val_loss: 0.0929\n",
            "Epoch 87/100\n",
            "469/469 [==============================] - 6s 14ms/step - loss: 0.0930 - val_loss: 0.0929\n",
            "Epoch 88/100\n",
            "469/469 [==============================] - 7s 14ms/step - loss: 0.0929 - val_loss: 0.0930\n",
            "Epoch 89/100\n",
            "469/469 [==============================] - 7s 14ms/step - loss: 0.0929 - val_loss: 0.0936\n",
            "Epoch 90/100\n",
            "469/469 [==============================] - 7s 14ms/step - loss: 0.0929 - val_loss: 0.0930\n",
            "Epoch 91/100\n",
            "469/469 [==============================] - 7s 14ms/step - loss: 0.0930 - val_loss: 0.0929\n",
            "Epoch 92/100\n",
            "469/469 [==============================] - 7s 14ms/step - loss: 0.0929 - val_loss: 0.0929\n",
            "Epoch 93/100\n",
            "469/469 [==============================] - 7s 14ms/step - loss: 0.0929 - val_loss: 0.0930\n",
            "Epoch 94/100\n",
            "469/469 [==============================] - 7s 14ms/step - loss: 0.0929 - val_loss: 0.0929\n",
            "Epoch 95/100\n",
            "469/469 [==============================] - 7s 14ms/step - loss: 0.0929 - val_loss: 0.0931\n",
            "Epoch 96/100\n",
            "469/469 [==============================] - 7s 14ms/step - loss: 0.0929 - val_loss: 0.0931\n",
            "Epoch 97/100\n",
            "469/469 [==============================] - 6s 14ms/step - loss: 0.0929 - val_loss: 0.0928\n",
            "Epoch 98/100\n",
            "469/469 [==============================] - 7s 14ms/step - loss: 0.0929 - val_loss: 0.0929\n",
            "Epoch 99/100\n",
            "469/469 [==============================] - 7s 14ms/step - loss: 0.0929 - val_loss: 0.0930\n",
            "Epoch 100/100\n",
            "469/469 [==============================] - 7s 14ms/step - loss: 0.0928 - val_loss: 0.0928\n"
          ]
        },
        {
          "output_type": "execute_result",
          "data": {
            "text/plain": [
              "<keras.callbacks.History at 0x7fea403ffb10>"
            ]
          },
          "metadata": {},
          "execution_count": 7
        }
      ]
    },
    {
      "cell_type": "code",
      "source": [
        "x_test_denoised = autoencoder.predict(x_test_noisy)"
      ],
      "metadata": {
        "id": "Qct-PdwPo4FH"
      },
      "execution_count": 22,
      "outputs": []
    },
    {
      "cell_type": "code",
      "source": [
        "print(x[2].shape)\n",
        "print(x_test_noisy.shape)"
      ],
      "metadata": {
        "colab": {
          "base_uri": "https://localhost:8080/"
        },
        "id": "XArTe7UtqlND",
        "outputId": "1c4da81c-3d89-462f-b340-01aec9e0bc89"
      },
      "execution_count": 23,
      "outputs": [
        {
          "output_type": "stream",
          "name": "stdout",
          "text": [
            "(28, 28, 1)\n",
            "(10000, 28, 28, 1)\n"
          ]
        }
      ]
    },
    {
      "cell_type": "code",
      "source": [
        "n = 10  # How many digits we will display\n",
        "plt.figure(figsize=(20, 4))\n",
        "for i in range(n):\n",
        "    # Display original\n",
        "    ax = plt.subplot(2, n, i + 1)\n",
        "    plt.imshow(x_test_noisy[i].reshape(28, 28))\n",
        "    plt.gray()\n",
        "    ax.get_xaxis().set_visible(False)\n",
        "    ax.get_yaxis().set_visible(False)\n",
        "\n",
        "    # Display reconstruction\n",
        "    ax = plt.subplot(2, n, i + 1 + n)\n",
        "    x1 = x_test_denoised[i].reshape(28,28)\n",
        "    plt.imshow(x1)\n",
        "    plt.gray()\n",
        "    ax.get_xaxis().set_visible(False)\n",
        "    ax.get_yaxis().set_visible(False)\n",
        "plt.show()"
      ],
      "metadata": {
        "colab": {
          "base_uri": "https://localhost:8080/",
          "height": 248
        },
        "id": "K1O5LeiLokf4",
        "outputId": "019dbe77-c383-4082-aecb-c6cc175edb4d"
      },
      "execution_count": 24,
      "outputs": [
        {
          "output_type": "display_data",
          "data": {
            "image/png": "[encoded data removed]",
            "text/plain": [
              "<Figure size 1440x288 with 20 Axes>"
            ]
          },
          "metadata": {
            "needs_background": "light"
          }
        }
      ]
    }
  ]
}