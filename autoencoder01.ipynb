{
  "nbformat": 4,
  "nbformat_minor": 0,
  "metadata": {
    "colab": {
      "name": "Untitled0.ipynb",
      "provenance": [],
      "authorship_tag": "ABX9TyPkTsg8WjSVDkgOn5OMoD1w",
      "include_colab_link": true
    },
    "kernelspec": {
      "name": "python3",
      "display_name": "Python 3"
    },
    "language_info": {
      "name": "python"
    }
  },
  "cells": [
    {
      "cell_type": "markdown",
      "metadata": {
        "id": "view-in-github",
        "colab_type": "text"
      },
      "source": [
        "<a href=\"https://colab.research.google.com/github/tsinam/MCA302B/blob/master/autoencoder01.ipynb\" target=\"_parent\"><img src=\"https://colab.research.google.com/assets/colab-badge.svg\" alt=\"Open In Colab\"/></a>"
      ]
    },
    {
      "cell_type": "code",
      "execution_count": null,
      "metadata": {
        "id": "MNMgRRvqKghy"
      },
      "outputs": [],
      "source": [
        "import keras\n",
        "from keras import layers\n",
        "\n",
        "# This is the size of our encoded representations\n",
        "encoding_dim = 32  # 32 floats -> compression of factor 24.5, assuming the input is 784 floats\n",
        "\n",
        "# This is our input image\n",
        "input_img = keras.Input(shape=(784,))\n",
        "# \"encoded\" is the encoded representation of the input\n",
        "encoded = layers.Dense(encoding_dim, activation='relu')(input_img)\n",
        "# \"decoded\" is the lossy reconstruction of the input\n",
        "decoded = layers.Dense(784, activation='sigmoid')(encoded)\n",
        "\n",
        "# This model maps an input to its reconstruction\n",
        "autoencoder = keras.Model(input_img, decoded)"
      ]
    },
    {
      "cell_type": "code",
      "source": [
        "# This model maps an input to its encoded representation\n",
        "encoder = keras.Model(input_img, encoded)"
      ],
      "metadata": {
        "id": "L22nwmV64-7K"
      },
      "execution_count": null,
      "outputs": []
    },
    {
      "cell_type": "code",
      "source": [
        "# This is our encoded (32-dimensional) input\n",
        "encoded_input = keras.Input(shape=(encoding_dim,))\n",
        "# Retrieve the last layer of the autoencoder model\n",
        "decoder_layer = autoencoder.layers[-1]\n",
        "# Create the decoder model\n",
        "decoder = keras.Model(encoded_input, decoder_layer(encoded_input))"
      ],
      "metadata": {
        "id": "YLBgEAz95Jd9"
      },
      "execution_count": null,
      "outputs": []
    },
    {
      "cell_type": "code",
      "source": [
        "autoencoder.compile(optimizer='adam', loss='binary_crossentropy')"
      ],
      "metadata": {
        "id": "HOziNnHc5N8B"
      },
      "execution_count": null,
      "outputs": []
    },
    {
      "cell_type": "code",
      "source": [
        "from keras.datasets import mnist\n",
        "import numpy as np\n",
        "(x_train, _), (x_test, _) = mnist.load_data()"
      ],
      "metadata": {
        "colab": {
          "base_uri": "https://localhost:8080/"
        },
        "id": "QOm1FlKL5R_j",
        "outputId": "cb65df11-49fa-48b0-e141-678e51b245a0"
      },
      "execution_count": null,
      "outputs": [
        {
          "output_type": "stream",
          "name": "stdout",
          "text": [
            "Downloading data from https://storage.googleapis.com/tensorflow/tf-keras-datasets/mnist.npz\n",
            "11493376/11490434 [==============================] - 0s 0us/step\n",
            "11501568/11490434 [==============================] - 0s 0us/step\n"
          ]
        }
      ]
    },
    {
      "cell_type": "code",
      "source": [
        "x_train = x_train.astype('float32') / 255.\n",
        "x_test = x_test.astype('float32') / 255.\n",
        "x_train = x_train.reshape((len(x_train), np.prod(x_train.shape[1:])))\n",
        "x_test = x_test.reshape((len(x_test), np.prod(x_test.shape[1:])))\n",
        "print(x_train.shape)\n",
        "print(x_test.shape)"
      ],
      "metadata": {
        "colab": {
          "base_uri": "https://localhost:8080/"
        },
        "id": "YPvms0E05W7F",
        "outputId": "9d46a991-4a4c-4d2f-eba4-16c158ade587"
      },
      "execution_count": null,
      "outputs": [
        {
          "output_type": "stream",
          "name": "stdout",
          "text": [
            "(60000, 784)\n",
            "(10000, 784)\n"
          ]
        }
      ]
    },
    {
      "cell_type": "code",
      "source": [
        "autoencoder.fit(x_train, x_train,\n",
        "                epochs=50,\n",
        "                batch_size=256,\n",
        "                shuffle=True,\n",
        "                validation_data=(x_test, x_test))"
      ],
      "metadata": {
        "colab": {
          "base_uri": "https://localhost:8080/"
        },
        "id": "xssIb4nA5aSA",
        "outputId": "b806c9e2-10b4-49a7-dc66-cad97848f1c2"
      },
      "execution_count": null,
      "outputs": [
        {
          "output_type": "stream",
          "name": "stdout",
          "text": [
            "Epoch 1/50\n",
            "235/235 [==============================] - 4s 14ms/step - loss: 0.2717 - val_loss: 0.1845\n",
            "Epoch 2/50\n",
            "235/235 [==============================] - 3s 13ms/step - loss: 0.1695 - val_loss: 0.1534\n",
            "Epoch 3/50\n",
            "235/235 [==============================] - 3s 13ms/step - loss: 0.1435 - val_loss: 0.1326\n",
            "Epoch 4/50\n",
            "235/235 [==============================] - 3s 14ms/step - loss: 0.1276 - val_loss: 0.1203\n",
            "Epoch 5/50\n",
            "235/235 [==============================] - 3s 13ms/step - loss: 0.1174 - val_loss: 0.1119\n",
            "Epoch 6/50\n",
            "235/235 [==============================] - 3s 13ms/step - loss: 0.1100 - val_loss: 0.1057\n",
            "Epoch 7/50\n",
            "235/235 [==============================] - 3s 13ms/step - loss: 0.1048 - val_loss: 0.1014\n",
            "Epoch 8/50\n",
            "235/235 [==============================] - 3s 13ms/step - loss: 0.1012 - val_loss: 0.0984\n",
            "Epoch 9/50\n",
            "235/235 [==============================] - 3s 13ms/step - loss: 0.0987 - val_loss: 0.0963\n",
            "Epoch 10/50\n",
            "235/235 [==============================] - 3s 13ms/step - loss: 0.0970 - val_loss: 0.0950\n",
            "Epoch 11/50\n",
            "235/235 [==============================] - 3s 13ms/step - loss: 0.0958 - val_loss: 0.0941\n",
            "Epoch 12/50\n",
            "235/235 [==============================] - 3s 13ms/step - loss: 0.0951 - val_loss: 0.0935\n",
            "Epoch 13/50\n",
            "235/235 [==============================] - 3s 13ms/step - loss: 0.0947 - val_loss: 0.0932\n",
            "Epoch 14/50\n",
            "235/235 [==============================] - 3s 13ms/step - loss: 0.0943 - val_loss: 0.0929\n",
            "Epoch 15/50\n",
            "235/235 [==============================] - 3s 14ms/step - loss: 0.0941 - val_loss: 0.0927\n",
            "Epoch 16/50\n",
            "235/235 [==============================] - 3s 13ms/step - loss: 0.0939 - val_loss: 0.0925\n",
            "Epoch 17/50\n",
            "235/235 [==============================] - 3s 13ms/step - loss: 0.0937 - val_loss: 0.0924\n",
            "Epoch 18/50\n",
            "235/235 [==============================] - 3s 13ms/step - loss: 0.0936 - val_loss: 0.0923\n",
            "Epoch 19/50\n",
            "235/235 [==============================] - 3s 13ms/step - loss: 0.0935 - val_loss: 0.0922\n",
            "Epoch 20/50\n",
            "235/235 [==============================] - 3s 13ms/step - loss: 0.0934 - val_loss: 0.0923\n",
            "Epoch 21/50\n",
            "235/235 [==============================] - 3s 13ms/step - loss: 0.0933 - val_loss: 0.0921\n",
            "Epoch 22/50\n",
            "235/235 [==============================] - 3s 13ms/step - loss: 0.0932 - val_loss: 0.0920\n",
            "Epoch 23/50\n",
            "235/235 [==============================] - 3s 13ms/step - loss: 0.0932 - val_loss: 0.0919\n",
            "Epoch 24/50\n",
            "235/235 [==============================] - 3s 13ms/step - loss: 0.0931 - val_loss: 0.0919\n",
            "Epoch 25/50\n",
            "235/235 [==============================] - 3s 13ms/step - loss: 0.0930 - val_loss: 0.0919\n",
            "Epoch 26/50\n",
            "235/235 [==============================] - 3s 13ms/step - loss: 0.0930 - val_loss: 0.0918\n",
            "Epoch 27/50\n",
            "235/235 [==============================] - 3s 13ms/step - loss: 0.0930 - val_loss: 0.0918\n",
            "Epoch 28/50\n",
            "235/235 [==============================] - 3s 13ms/step - loss: 0.0929 - val_loss: 0.0918\n",
            "Epoch 29/50\n",
            "235/235 [==============================] - 3s 13ms/step - loss: 0.0929 - val_loss: 0.0918\n",
            "Epoch 30/50\n",
            "235/235 [==============================] - 3s 13ms/step - loss: 0.0929 - val_loss: 0.0917\n",
            "Epoch 31/50\n",
            "235/235 [==============================] - 3s 13ms/step - loss: 0.0928 - val_loss: 0.0918\n",
            "Epoch 32/50\n",
            "235/235 [==============================] - 3s 13ms/step - loss: 0.0928 - val_loss: 0.0917\n",
            "Epoch 33/50\n",
            "235/235 [==============================] - 3s 13ms/step - loss: 0.0928 - val_loss: 0.0916\n",
            "Epoch 34/50\n",
            "235/235 [==============================] - 3s 13ms/step - loss: 0.0928 - val_loss: 0.0916\n",
            "Epoch 35/50\n",
            "235/235 [==============================] - 3s 13ms/step - loss: 0.0927 - val_loss: 0.0916\n",
            "Epoch 36/50\n",
            "235/235 [==============================] - 3s 13ms/step - loss: 0.0927 - val_loss: 0.0916\n",
            "Epoch 37/50\n",
            "235/235 [==============================] - 3s 13ms/step - loss: 0.0927 - val_loss: 0.0915\n",
            "Epoch 38/50\n",
            "235/235 [==============================] - 3s 13ms/step - loss: 0.0927 - val_loss: 0.0916\n",
            "Epoch 39/50\n",
            "235/235 [==============================] - 3s 13ms/step - loss: 0.0927 - val_loss: 0.0916\n",
            "Epoch 40/50\n",
            "235/235 [==============================] - 3s 13ms/step - loss: 0.0927 - val_loss: 0.0915\n",
            "Epoch 41/50\n",
            "235/235 [==============================] - 3s 13ms/step - loss: 0.0926 - val_loss: 0.0915\n",
            "Epoch 42/50\n",
            "235/235 [==============================] - 3s 13ms/step - loss: 0.0926 - val_loss: 0.0915\n",
            "Epoch 43/50\n",
            "235/235 [==============================] - 3s 13ms/step - loss: 0.0926 - val_loss: 0.0915\n",
            "Epoch 44/50\n",
            "235/235 [==============================] - 3s 13ms/step - loss: 0.0926 - val_loss: 0.0915\n",
            "Epoch 45/50\n",
            "235/235 [==============================] - 3s 13ms/step - loss: 0.0926 - val_loss: 0.0914\n",
            "Epoch 46/50\n",
            "235/235 [==============================] - 3s 13ms/step - loss: 0.0926 - val_loss: 0.0915\n",
            "Epoch 47/50\n",
            "235/235 [==============================] - 3s 13ms/step - loss: 0.0926 - val_loss: 0.0914\n",
            "Epoch 48/50\n",
            "235/235 [==============================] - 3s 13ms/step - loss: 0.0926 - val_loss: 0.0915\n",
            "Epoch 49/50\n",
            "235/235 [==============================] - 3s 13ms/step - loss: 0.0926 - val_loss: 0.0914\n",
            "Epoch 50/50\n",
            "235/235 [==============================] - 3s 13ms/step - loss: 0.0926 - val_loss: 0.0914\n"
          ]
        },
        {
          "output_type": "execute_result",
          "data": {
            "text/plain": [
              "<keras.callbacks.History at 0x7eff72bfda50>"
            ]
          },
          "metadata": {},
          "execution_count": 7
        }
      ]
    },
    {
      "cell_type": "code",
      "source": [
        "# Encode and decode some digits\n",
        "# Note that we take them from the *test* set\n",
        "encoded_imgs = encoder.predict(x_test)\n",
        "decoded_imgs = decoder.predict(encoded_imgs)"
      ],
      "metadata": {
        "id": "-j33DfiC5nwN"
      },
      "execution_count": null,
      "outputs": []
    },
    {
      "cell_type": "code",
      "source": [
        "x_test.shape"
      ],
      "metadata": {
        "colab": {
          "base_uri": "https://localhost:8080/"
        },
        "id": "CwxnoCPX7Wbk",
        "outputId": "177dc6d3-5194-4c85-b935-2347deb34541"
      },
      "execution_count": null,
      "outputs": [
        {
          "output_type": "execute_result",
          "data": {
            "text/plain": [
              "(10000, 784)"
            ]
          },
          "metadata": {},
          "execution_count": 12
        }
      ]
    },
    {
      "cell_type": "code",
      "source": [
        "encoded_imgs.shape"
      ],
      "metadata": {
        "colab": {
          "base_uri": "https://localhost:8080/"
        },
        "id": "vN1CZqeU7Foo",
        "outputId": "57bf7f4a-85cb-4992-e4e3-57fb51834bae"
      },
      "execution_count": null,
      "outputs": [
        {
          "output_type": "execute_result",
          "data": {
            "text/plain": [
              "(10000, 32)"
            ]
          },
          "metadata": {},
          "execution_count": 10
        }
      ]
    },
    {
      "cell_type": "code",
      "source": [
        "decoded_imgs.shape"
      ],
      "metadata": {
        "colab": {
          "base_uri": "https://localhost:8080/"
        },
        "id": "woJET0Q17Nf6",
        "outputId": "c8162347-1a4d-4adc-8ad8-c486ca6f4732"
      },
      "execution_count": null,
      "outputs": [
        {
          "output_type": "execute_result",
          "data": {
            "text/plain": [
              "(10000, 784)"
            ]
          },
          "metadata": {},
          "execution_count": 11
        }
      ]
    },
    {
      "cell_type": "code",
      "source": [
        "# Use Matplotlib (don't ask)\n",
        "import matplotlib.pyplot as plt\n",
        "\n",
        "n = 10  # How many digits we will display\n",
        "plt.figure(figsize=(20, 4))\n",
        "for i in range(n):\n",
        "    # Display original\n",
        "    ax = plt.subplot(2, n, i + 1)\n",
        "    plt.imshow(x_test[i].reshape(28, 28))\n",
        "    plt.gray()\n",
        "    ax.get_xaxis().set_visible(False)\n",
        "    ax.get_yaxis().set_visible(False)\n",
        "\n",
        "    # Display reconstruction\n",
        "    ax = plt.subplot(2, n, i + 1 + n)\n",
        "    plt.imshow(decoded_imgs[i].reshape(28, 28))\n",
        "    plt.gray()\n",
        "    ax.get_xaxis().set_visible(False)\n",
        "    ax.get_yaxis().set_visible(False)\n",
        "plt.show()"
      ],
      "metadata": {
        "colab": {
          "base_uri": "https://localhost:8080/",
          "height": 248
        },
        "id": "YKVc_meL5sYp",
        "outputId": "b4a4551f-4cf7-4c1f-9e65-fc242d103101"
      },
      "execution_count": null,
      "outputs": [
        {
          "output_type": "display_data",
          "data": {
            "image/png": "[encoded data removed]",
            "text/plain": [
              "<Figure size 1440x288 with 20 Axes>"
            ]
          },
          "metadata": {
            "needs_background": "light"
          }
        }
      ]
    }
  ]
}